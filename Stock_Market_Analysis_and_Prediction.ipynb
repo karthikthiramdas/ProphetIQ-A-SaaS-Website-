{
  "cells": [
    {
      "cell_type": "code",
      "execution_count": null,
      "metadata": {
        "colab": {
          "base_uri": "https://localhost:8080/"
        },
        "id": "f91eb4e9",
        "outputId": "128b0fca-3eaa-424d-b0f2-ca07c8c78410"
      },
      "outputs": [
        {
          "output_type": "stream",
          "name": "stdout",
          "text": [
            "Requirement already satisfied: yfinance in /usr/local/lib/python3.10/dist-packages (0.2.37)\n",
            "Requirement already satisfied: pandas>=1.3.0 in /usr/local/lib/python3.10/dist-packages (from yfinance) (2.0.3)\n",
            "Requirement already satisfied: numpy>=1.16.5 in /usr/local/lib/python3.10/dist-packages (from yfinance) (1.25.2)\n",
            "Requirement already satisfied: requests>=2.31 in /usr/local/lib/python3.10/dist-packages (from yfinance) (2.31.0)\n",
            "Requirement already satisfied: multitasking>=0.0.7 in /usr/local/lib/python3.10/dist-packages (from yfinance) (0.0.11)\n",
            "Requirement already satisfied: lxml>=4.9.1 in /usr/local/lib/python3.10/dist-packages (from yfinance) (4.9.4)\n",
            "Requirement already satisfied: appdirs>=1.4.4 in /usr/local/lib/python3.10/dist-packages (from yfinance) (1.4.4)\n",
            "Requirement already satisfied: pytz>=2022.5 in /usr/local/lib/python3.10/dist-packages (from yfinance) (2023.4)\n",
            "Requirement already satisfied: frozendict>=2.3.4 in /usr/local/lib/python3.10/dist-packages (from yfinance) (2.4.1)\n",
            "Requirement already satisfied: peewee>=3.16.2 in /usr/local/lib/python3.10/dist-packages (from yfinance) (3.17.1)\n",
            "Requirement already satisfied: beautifulsoup4>=4.11.1 in /usr/local/lib/python3.10/dist-packages (from yfinance) (4.12.3)\n",
            "Requirement already satisfied: html5lib>=1.1 in /usr/local/lib/python3.10/dist-packages (from yfinance) (1.1)\n",
            "Requirement already satisfied: soupsieve>1.2 in /usr/local/lib/python3.10/dist-packages (from beautifulsoup4>=4.11.1->yfinance) (2.5)\n",
            "Requirement already satisfied: six>=1.9 in /usr/local/lib/python3.10/dist-packages (from html5lib>=1.1->yfinance) (1.16.0)\n",
            "Requirement already satisfied: webencodings in /usr/local/lib/python3.10/dist-packages (from html5lib>=1.1->yfinance) (0.5.1)\n",
            "Requirement already satisfied: python-dateutil>=2.8.2 in /usr/local/lib/python3.10/dist-packages (from pandas>=1.3.0->yfinance) (2.8.2)\n",
            "Requirement already satisfied: tzdata>=2022.1 in /usr/local/lib/python3.10/dist-packages (from pandas>=1.3.0->yfinance) (2024.1)\n",
            "Requirement already satisfied: charset-normalizer<4,>=2 in /usr/local/lib/python3.10/dist-packages (from requests>=2.31->yfinance) (3.3.2)\n",
            "Requirement already satisfied: idna<4,>=2.5 in /usr/local/lib/python3.10/dist-packages (from requests>=2.31->yfinance) (3.6)\n",
            "Requirement already satisfied: urllib3<3,>=1.21.1 in /usr/local/lib/python3.10/dist-packages (from requests>=2.31->yfinance) (2.0.7)\n",
            "Requirement already satisfied: certifi>=2017.4.17 in /usr/local/lib/python3.10/dist-packages (from requests>=2.31->yfinance) (2024.2.2)\n"
          ]
        }
      ],
      "source": [
        " #yahoo finance as data source\n",
        "!pip install yfinance\n",
        "import yfinance as yf"
      ],
      "id": "f91eb4e9"
    },
    {
      "cell_type": "code",
      "execution_count": null,
      "metadata": {
        "id": "ee00f18c"
      },
      "outputs": [],
      "source": [
        "#See the yahoo finance ticker for your stock symbol\n",
        "stock_symbol = 'TATAMOTORS.NS'"
      ],
      "id": "ee00f18c"
    },
    {
      "cell_type": "code",
      "execution_count": null,
      "metadata": {
        "colab": {
          "base_uri": "https://localhost:8080/"
        },
        "id": "d365868a",
        "outputId": "b818edb1-8945-4abb-b8e0-4a1e0e9f421a"
      },
      "outputs": [
        {
          "output_type": "stream",
          "name": "stderr",
          "text": [
            "\r[*********************100%%**********************]  1 of 1 completed\n"
          ]
        }
      ],
      "source": [
        "#last 5 years data with interval of 1 day\n",
        "data = yf.download(tickers=stock_symbol,period='5y',interval='1d')"
      ],
      "id": "d365868a"
    },
    {
      "cell_type": "code",
      "execution_count": null,
      "metadata": {
        "colab": {
          "base_uri": "https://localhost:8080/",
          "height": 203
        },
        "id": "9f82e205",
        "outputId": "269737a6-0aa6-4170-e367-104bc88d6b88"
      },
      "outputs": [
        {
          "output_type": "execute_result",
          "data": {
            "text/plain": [
              "pandas.core.frame.DataFrame"
            ],
            "text/html": [
              "<div style=\"max-width:800px; border: 1px solid var(--colab-border-color);\"><style>\n",
              "      pre.function-repr-contents {\n",
              "        overflow-x: auto;\n",
              "        padding: 8px 12px;\n",
              "        max-height: 500px;\n",
              "      }\n",
              "\n",
              "      pre.function-repr-contents.function-repr-contents-collapsed {\n",
              "        cursor: pointer;\n",
              "        max-height: 100px;\n",
              "      }\n",
              "    </style>\n",
              "    <pre style=\"white-space: initial; background:\n",
              "         var(--colab-secondary-surface-color); padding: 8px 12px;\n",
              "         border-bottom: 1px solid var(--colab-border-color);\"><b>pandas.core.frame.DataFrame</b><br/>def __init__(data=None, index: Axes | None=None, columns: Axes | None=None, dtype: Dtype | None=None, copy: bool | None=None) -&gt; None</pre><pre class=\"function-repr-contents function-repr-contents-collapsed\" style=\"\"><a class=\"filepath\" style=\"display:none\" href=\"#\">/usr/local/lib/python3.10/dist-packages/pandas/core/frame.py</a>Two-dimensional, size-mutable, potentially heterogeneous tabular data.\n",
              "\n",
              "Data structure also contains labeled axes (rows and columns).\n",
              "Arithmetic operations align on both row and column labels. Can be\n",
              "thought of as a dict-like container for Series objects. The primary\n",
              "pandas data structure.\n",
              "\n",
              "Parameters\n",
              "----------\n",
              "data : ndarray (structured or homogeneous), Iterable, dict, or DataFrame\n",
              "    Dict can contain Series, arrays, constants, dataclass or list-like objects. If\n",
              "    data is a dict, column order follows insertion-order. If a dict contains Series\n",
              "    which have an index defined, it is aligned by its index. This alignment also\n",
              "    occurs if data is a Series or a DataFrame itself. Alignment is done on\n",
              "    Series/DataFrame inputs.\n",
              "\n",
              "    If data is a list of dicts, column order follows insertion-order.\n",
              "\n",
              "index : Index or array-like\n",
              "    Index to use for resulting frame. Will default to RangeIndex if\n",
              "    no indexing information part of input data and no index provided.\n",
              "columns : Index or array-like\n",
              "    Column labels to use for resulting frame when data does not have them,\n",
              "    defaulting to RangeIndex(0, 1, 2, ..., n). If data contains column labels,\n",
              "    will perform column selection instead.\n",
              "dtype : dtype, default None\n",
              "    Data type to force. Only a single dtype is allowed. If None, infer.\n",
              "copy : bool or None, default None\n",
              "    Copy data from inputs.\n",
              "    For dict data, the default of None behaves like ``copy=True``.  For DataFrame\n",
              "    or 2d ndarray input, the default of None behaves like ``copy=False``.\n",
              "    If data is a dict containing one or more Series (possibly of different dtypes),\n",
              "    ``copy=False`` will ensure that these inputs are not copied.\n",
              "\n",
              "    .. versionchanged:: 1.3.0\n",
              "\n",
              "See Also\n",
              "--------\n",
              "DataFrame.from_records : Constructor from tuples, also record arrays.\n",
              "DataFrame.from_dict : From dicts of Series, arrays, or dicts.\n",
              "read_csv : Read a comma-separated values (csv) file into DataFrame.\n",
              "read_table : Read general delimited file into DataFrame.\n",
              "read_clipboard : Read text from clipboard into DataFrame.\n",
              "\n",
              "Notes\n",
              "-----\n",
              "Please reference the :ref:`User Guide &lt;basics.dataframe&gt;` for more information.\n",
              "\n",
              "Examples\n",
              "--------\n",
              "Constructing DataFrame from a dictionary.\n",
              "\n",
              "&gt;&gt;&gt; d = {&#x27;col1&#x27;: [1, 2], &#x27;col2&#x27;: [3, 4]}\n",
              "&gt;&gt;&gt; df = pd.DataFrame(data=d)\n",
              "&gt;&gt;&gt; df\n",
              "   col1  col2\n",
              "0     1     3\n",
              "1     2     4\n",
              "\n",
              "Notice that the inferred dtype is int64.\n",
              "\n",
              "&gt;&gt;&gt; df.dtypes\n",
              "col1    int64\n",
              "col2    int64\n",
              "dtype: object\n",
              "\n",
              "To enforce a single dtype:\n",
              "\n",
              "&gt;&gt;&gt; df = pd.DataFrame(data=d, dtype=np.int8)\n",
              "&gt;&gt;&gt; df.dtypes\n",
              "col1    int8\n",
              "col2    int8\n",
              "dtype: object\n",
              "\n",
              "Constructing DataFrame from a dictionary including Series:\n",
              "\n",
              "&gt;&gt;&gt; d = {&#x27;col1&#x27;: [0, 1, 2, 3], &#x27;col2&#x27;: pd.Series([2, 3], index=[2, 3])}\n",
              "&gt;&gt;&gt; pd.DataFrame(data=d, index=[0, 1, 2, 3])\n",
              "   col1  col2\n",
              "0     0   NaN\n",
              "1     1   NaN\n",
              "2     2   2.0\n",
              "3     3   3.0\n",
              "\n",
              "Constructing DataFrame from numpy ndarray:\n",
              "\n",
              "&gt;&gt;&gt; df2 = pd.DataFrame(np.array([[1, 2, 3], [4, 5, 6], [7, 8, 9]]),\n",
              "...                    columns=[&#x27;a&#x27;, &#x27;b&#x27;, &#x27;c&#x27;])\n",
              "&gt;&gt;&gt; df2\n",
              "   a  b  c\n",
              "0  1  2  3\n",
              "1  4  5  6\n",
              "2  7  8  9\n",
              "\n",
              "Constructing DataFrame from a numpy ndarray that has labeled columns:\n",
              "\n",
              "&gt;&gt;&gt; data = np.array([(1, 2, 3), (4, 5, 6), (7, 8, 9)],\n",
              "...                 dtype=[(&quot;a&quot;, &quot;i4&quot;), (&quot;b&quot;, &quot;i4&quot;), (&quot;c&quot;, &quot;i4&quot;)])\n",
              "&gt;&gt;&gt; df3 = pd.DataFrame(data, columns=[&#x27;c&#x27;, &#x27;a&#x27;])\n",
              "...\n",
              "&gt;&gt;&gt; df3\n",
              "   c  a\n",
              "0  3  1\n",
              "1  6  4\n",
              "2  9  7\n",
              "\n",
              "Constructing DataFrame from dataclass:\n",
              "\n",
              "&gt;&gt;&gt; from dataclasses import make_dataclass\n",
              "&gt;&gt;&gt; Point = make_dataclass(&quot;Point&quot;, [(&quot;x&quot;, int), (&quot;y&quot;, int)])\n",
              "&gt;&gt;&gt; pd.DataFrame([Point(0, 0), Point(0, 3), Point(2, 3)])\n",
              "   x  y\n",
              "0  0  0\n",
              "1  0  3\n",
              "2  2  3\n",
              "\n",
              "Constructing DataFrame from Series/DataFrame:\n",
              "\n",
              "&gt;&gt;&gt; ser = pd.Series([1, 2, 3], index=[&quot;a&quot;, &quot;b&quot;, &quot;c&quot;])\n",
              "&gt;&gt;&gt; df = pd.DataFrame(data=ser, index=[&quot;a&quot;, &quot;c&quot;])\n",
              "&gt;&gt;&gt; df\n",
              "   0\n",
              "a  1\n",
              "c  3\n",
              "\n",
              "&gt;&gt;&gt; df1 = pd.DataFrame([1, 2, 3], index=[&quot;a&quot;, &quot;b&quot;, &quot;c&quot;], columns=[&quot;x&quot;])\n",
              "&gt;&gt;&gt; df2 = pd.DataFrame(data=df1, index=[&quot;a&quot;, &quot;c&quot;])\n",
              "&gt;&gt;&gt; df2\n",
              "   x\n",
              "a  1\n",
              "c  3</pre>\n",
              "      <script>\n",
              "      if (google.colab.kernel.accessAllowed && google.colab.files && google.colab.files.view) {\n",
              "        for (const element of document.querySelectorAll('.filepath')) {\n",
              "          element.style.display = 'block'\n",
              "          element.onclick = (event) => {\n",
              "            event.preventDefault();\n",
              "            event.stopPropagation();\n",
              "            google.colab.files.view(element.textContent, 490);\n",
              "          };\n",
              "        }\n",
              "      }\n",
              "      for (const element of document.querySelectorAll('.function-repr-contents')) {\n",
              "        element.onclick = (event) => {\n",
              "          event.preventDefault();\n",
              "          event.stopPropagation();\n",
              "          element.classList.toggle('function-repr-contents-collapsed');\n",
              "        };\n",
              "      }\n",
              "      </script>\n",
              "      </div>"
            ]
          },
          "metadata": {},
          "execution_count": 4
        }
      ],
      "source": [
        "type(data)"
      ],
      "id": "9f82e205"
    },
    {
      "cell_type": "code",
      "execution_count": null,
      "metadata": {
        "colab": {
          "base_uri": "https://localhost:8080/",
          "height": 237
        },
        "id": "dbbe3e6b",
        "outputId": "fdf64bd4-025f-4ba1-bc8a-f94e5b09dadd"
      },
      "outputs": [
        {
          "output_type": "execute_result",
          "data": {
            "text/plain": [
              "                  Open        High         Low       Close   Adj Close  \\\n",
              "Date                                                                     \n",
              "2019-04-16  233.800003  234.100006  225.649994  230.500000  229.783829   \n",
              "2019-04-18  231.899994  239.300003  230.600006  236.250000  235.515976   \n",
              "2019-04-22  235.000000  239.350006  231.699997  234.850006  234.120331   \n",
              "2019-04-23  235.000000  235.850006  230.250000  231.649994  230.930252   \n",
              "2019-04-24  231.649994  232.949997  217.600006  223.600006  222.905273   \n",
              "\n",
              "              Volume  \n",
              "Date                  \n",
              "2019-04-16  41653657  \n",
              "2019-04-18  42451178  \n",
              "2019-04-22  30282217  \n",
              "2019-04-23  18975358  \n",
              "2019-04-24  50317411  "
            ],
            "text/html": [
              "\n",
              "  <div id=\"df-38156b76-a0ad-482c-8365-36628837f610\" class=\"colab-df-container\">\n",
              "    <div>\n",
              "<style scoped>\n",
              "    .dataframe tbody tr th:only-of-type {\n",
              "        vertical-align: middle;\n",
              "    }\n",
              "\n",
              "    .dataframe tbody tr th {\n",
              "        vertical-align: top;\n",
              "    }\n",
              "\n",
              "    .dataframe thead th {\n",
              "        text-align: right;\n",
              "    }\n",
              "</style>\n",
              "<table border=\"1\" class=\"dataframe\">\n",
              "  <thead>\n",
              "    <tr style=\"text-align: right;\">\n",
              "      <th></th>\n",
              "      <th>Open</th>\n",
              "      <th>High</th>\n",
              "      <th>Low</th>\n",
              "      <th>Close</th>\n",
              "      <th>Adj Close</th>\n",
              "      <th>Volume</th>\n",
              "    </tr>\n",
              "    <tr>\n",
              "      <th>Date</th>\n",
              "      <th></th>\n",
              "      <th></th>\n",
              "      <th></th>\n",
              "      <th></th>\n",
              "      <th></th>\n",
              "      <th></th>\n",
              "    </tr>\n",
              "  </thead>\n",
              "  <tbody>\n",
              "    <tr>\n",
              "      <th>2019-04-16</th>\n",
              "      <td>233.800003</td>\n",
              "      <td>234.100006</td>\n",
              "      <td>225.649994</td>\n",
              "      <td>230.500000</td>\n",
              "      <td>229.783829</td>\n",
              "      <td>41653657</td>\n",
              "    </tr>\n",
              "    <tr>\n",
              "      <th>2019-04-18</th>\n",
              "      <td>231.899994</td>\n",
              "      <td>239.300003</td>\n",
              "      <td>230.600006</td>\n",
              "      <td>236.250000</td>\n",
              "      <td>235.515976</td>\n",
              "      <td>42451178</td>\n",
              "    </tr>\n",
              "    <tr>\n",
              "      <th>2019-04-22</th>\n",
              "      <td>235.000000</td>\n",
              "      <td>239.350006</td>\n",
              "      <td>231.699997</td>\n",
              "      <td>234.850006</td>\n",
              "      <td>234.120331</td>\n",
              "      <td>30282217</td>\n",
              "    </tr>\n",
              "    <tr>\n",
              "      <th>2019-04-23</th>\n",
              "      <td>235.000000</td>\n",
              "      <td>235.850006</td>\n",
              "      <td>230.250000</td>\n",
              "      <td>231.649994</td>\n",
              "      <td>230.930252</td>\n",
              "      <td>18975358</td>\n",
              "    </tr>\n",
              "    <tr>\n",
              "      <th>2019-04-24</th>\n",
              "      <td>231.649994</td>\n",
              "      <td>232.949997</td>\n",
              "      <td>217.600006</td>\n",
              "      <td>223.600006</td>\n",
              "      <td>222.905273</td>\n",
              "      <td>50317411</td>\n",
              "    </tr>\n",
              "  </tbody>\n",
              "</table>\n",
              "</div>\n",
              "    <div class=\"colab-df-buttons\">\n",
              "\n",
              "  <div class=\"colab-df-container\">\n",
              "    <button class=\"colab-df-convert\" onclick=\"convertToInteractive('df-38156b76-a0ad-482c-8365-36628837f610')\"\n",
              "            title=\"Convert this dataframe to an interactive table.\"\n",
              "            style=\"display:none;\">\n",
              "\n",
              "  <svg xmlns=\"http://www.w3.org/2000/svg\" height=\"24px\" viewBox=\"0 -960 960 960\">\n",
              "    <path d=\"M120-120v-720h720v720H120Zm60-500h600v-160H180v160Zm220 220h160v-160H400v160Zm0 220h160v-160H400v160ZM180-400h160v-160H180v160Zm440 0h160v-160H620v160ZM180-180h160v-160H180v160Zm440 0h160v-160H620v160Z\"/>\n",
              "  </svg>\n",
              "    </button>\n",
              "\n",
              "  <style>\n",
              "    .colab-df-container {\n",
              "      display:flex;\n",
              "      gap: 12px;\n",
              "    }\n",
              "\n",
              "    .colab-df-convert {\n",
              "      background-color: #E8F0FE;\n",
              "      border: none;\n",
              "      border-radius: 50%;\n",
              "      cursor: pointer;\n",
              "      display: none;\n",
              "      fill: #1967D2;\n",
              "      height: 32px;\n",
              "      padding: 0 0 0 0;\n",
              "      width: 32px;\n",
              "    }\n",
              "\n",
              "    .colab-df-convert:hover {\n",
              "      background-color: #E2EBFA;\n",
              "      box-shadow: 0px 1px 2px rgba(60, 64, 67, 0.3), 0px 1px 3px 1px rgba(60, 64, 67, 0.15);\n",
              "      fill: #174EA6;\n",
              "    }\n",
              "\n",
              "    .colab-df-buttons div {\n",
              "      margin-bottom: 4px;\n",
              "    }\n",
              "\n",
              "    [theme=dark] .colab-df-convert {\n",
              "      background-color: #3B4455;\n",
              "      fill: #D2E3FC;\n",
              "    }\n",
              "\n",
              "    [theme=dark] .colab-df-convert:hover {\n",
              "      background-color: #434B5C;\n",
              "      box-shadow: 0px 1px 3px 1px rgba(0, 0, 0, 0.15);\n",
              "      filter: drop-shadow(0px 1px 2px rgba(0, 0, 0, 0.3));\n",
              "      fill: #FFFFFF;\n",
              "    }\n",
              "  </style>\n",
              "\n",
              "    <script>\n",
              "      const buttonEl =\n",
              "        document.querySelector('#df-38156b76-a0ad-482c-8365-36628837f610 button.colab-df-convert');\n",
              "      buttonEl.style.display =\n",
              "        google.colab.kernel.accessAllowed ? 'block' : 'none';\n",
              "\n",
              "      async function convertToInteractive(key) {\n",
              "        const element = document.querySelector('#df-38156b76-a0ad-482c-8365-36628837f610');\n",
              "        const dataTable =\n",
              "          await google.colab.kernel.invokeFunction('convertToInteractive',\n",
              "                                                    [key], {});\n",
              "        if (!dataTable) return;\n",
              "\n",
              "        const docLinkHtml = 'Like what you see? Visit the ' +\n",
              "          '<a target=\"_blank\" href=https://colab.research.google.com/notebooks/data_table.ipynb>data table notebook</a>'\n",
              "          + ' to learn more about interactive tables.';\n",
              "        element.innerHTML = '';\n",
              "        dataTable['output_type'] = 'display_data';\n",
              "        await google.colab.output.renderOutput(dataTable, element);\n",
              "        const docLink = document.createElement('div');\n",
              "        docLink.innerHTML = docLinkHtml;\n",
              "        element.appendChild(docLink);\n",
              "      }\n",
              "    </script>\n",
              "  </div>\n",
              "\n",
              "\n",
              "<div id=\"df-9260582e-30c6-48aa-931a-bdf892e543e9\">\n",
              "  <button class=\"colab-df-quickchart\" onclick=\"quickchart('df-9260582e-30c6-48aa-931a-bdf892e543e9')\"\n",
              "            title=\"Suggest charts\"\n",
              "            style=\"display:none;\">\n",
              "\n",
              "<svg xmlns=\"http://www.w3.org/2000/svg\" height=\"24px\"viewBox=\"0 0 24 24\"\n",
              "     width=\"24px\">\n",
              "    <g>\n",
              "        <path d=\"M19 3H5c-1.1 0-2 .9-2 2v14c0 1.1.9 2 2 2h14c1.1 0 2-.9 2-2V5c0-1.1-.9-2-2-2zM9 17H7v-7h2v7zm4 0h-2V7h2v10zm4 0h-2v-4h2v4z\"/>\n",
              "    </g>\n",
              "</svg>\n",
              "  </button>\n",
              "\n",
              "<style>\n",
              "  .colab-df-quickchart {\n",
              "      --bg-color: #E8F0FE;\n",
              "      --fill-color: #1967D2;\n",
              "      --hover-bg-color: #E2EBFA;\n",
              "      --hover-fill-color: #174EA6;\n",
              "      --disabled-fill-color: #AAA;\n",
              "      --disabled-bg-color: #DDD;\n",
              "  }\n",
              "\n",
              "  [theme=dark] .colab-df-quickchart {\n",
              "      --bg-color: #3B4455;\n",
              "      --fill-color: #D2E3FC;\n",
              "      --hover-bg-color: #434B5C;\n",
              "      --hover-fill-color: #FFFFFF;\n",
              "      --disabled-bg-color: #3B4455;\n",
              "      --disabled-fill-color: #666;\n",
              "  }\n",
              "\n",
              "  .colab-df-quickchart {\n",
              "    background-color: var(--bg-color);\n",
              "    border: none;\n",
              "    border-radius: 50%;\n",
              "    cursor: pointer;\n",
              "    display: none;\n",
              "    fill: var(--fill-color);\n",
              "    height: 32px;\n",
              "    padding: 0;\n",
              "    width: 32px;\n",
              "  }\n",
              "\n",
              "  .colab-df-quickchart:hover {\n",
              "    background-color: var(--hover-bg-color);\n",
              "    box-shadow: 0 1px 2px rgba(60, 64, 67, 0.3), 0 1px 3px 1px rgba(60, 64, 67, 0.15);\n",
              "    fill: var(--button-hover-fill-color);\n",
              "  }\n",
              "\n",
              "  .colab-df-quickchart-complete:disabled,\n",
              "  .colab-df-quickchart-complete:disabled:hover {\n",
              "    background-color: var(--disabled-bg-color);\n",
              "    fill: var(--disabled-fill-color);\n",
              "    box-shadow: none;\n",
              "  }\n",
              "\n",
              "  .colab-df-spinner {\n",
              "    border: 2px solid var(--fill-color);\n",
              "    border-color: transparent;\n",
              "    border-bottom-color: var(--fill-color);\n",
              "    animation:\n",
              "      spin 1s steps(1) infinite;\n",
              "  }\n",
              "\n",
              "  @keyframes spin {\n",
              "    0% {\n",
              "      border-color: transparent;\n",
              "      border-bottom-color: var(--fill-color);\n",
              "      border-left-color: var(--fill-color);\n",
              "    }\n",
              "    20% {\n",
              "      border-color: transparent;\n",
              "      border-left-color: var(--fill-color);\n",
              "      border-top-color: var(--fill-color);\n",
              "    }\n",
              "    30% {\n",
              "      border-color: transparent;\n",
              "      border-left-color: var(--fill-color);\n",
              "      border-top-color: var(--fill-color);\n",
              "      border-right-color: var(--fill-color);\n",
              "    }\n",
              "    40% {\n",
              "      border-color: transparent;\n",
              "      border-right-color: var(--fill-color);\n",
              "      border-top-color: var(--fill-color);\n",
              "    }\n",
              "    60% {\n",
              "      border-color: transparent;\n",
              "      border-right-color: var(--fill-color);\n",
              "    }\n",
              "    80% {\n",
              "      border-color: transparent;\n",
              "      border-right-color: var(--fill-color);\n",
              "      border-bottom-color: var(--fill-color);\n",
              "    }\n",
              "    90% {\n",
              "      border-color: transparent;\n",
              "      border-bottom-color: var(--fill-color);\n",
              "    }\n",
              "  }\n",
              "</style>\n",
              "\n",
              "  <script>\n",
              "    async function quickchart(key) {\n",
              "      const quickchartButtonEl =\n",
              "        document.querySelector('#' + key + ' button');\n",
              "      quickchartButtonEl.disabled = true;  // To prevent multiple clicks.\n",
              "      quickchartButtonEl.classList.add('colab-df-spinner');\n",
              "      try {\n",
              "        const charts = await google.colab.kernel.invokeFunction(\n",
              "            'suggestCharts', [key], {});\n",
              "      } catch (error) {\n",
              "        console.error('Error during call to suggestCharts:', error);\n",
              "      }\n",
              "      quickchartButtonEl.classList.remove('colab-df-spinner');\n",
              "      quickchartButtonEl.classList.add('colab-df-quickchart-complete');\n",
              "    }\n",
              "    (() => {\n",
              "      let quickchartButtonEl =\n",
              "        document.querySelector('#df-9260582e-30c6-48aa-931a-bdf892e543e9 button');\n",
              "      quickchartButtonEl.style.display =\n",
              "        google.colab.kernel.accessAllowed ? 'block' : 'none';\n",
              "    })();\n",
              "  </script>\n",
              "</div>\n",
              "\n",
              "    </div>\n",
              "  </div>\n"
            ],
            "application/vnd.google.colaboratory.intrinsic+json": {
              "type": "dataframe",
              "variable_name": "data",
              "summary": "{\n  \"name\": \"data\",\n  \"rows\": 1235,\n  \"fields\": [\n    {\n      \"column\": \"Date\",\n      \"properties\": {\n        \"dtype\": \"date\",\n        \"min\": \"2019-04-16 00:00:00\",\n        \"max\": \"2024-04-16 00:00:00\",\n        \"num_unique_values\": 1235,\n        \"samples\": [\n          \"2022-05-05 00:00:00\",\n          \"2021-08-25 00:00:00\",\n          \"2021-07-06 00:00:00\"\n        ],\n        \"semantic_type\": \"\",\n        \"description\": \"\"\n      }\n    },\n    {\n      \"column\": \"Open\",\n      \"properties\": {\n        \"dtype\": \"number\",\n        \"std\": 219.24478517516533,\n        \"min\": 66.5,\n        \"max\": 1034.75,\n        \"num_unique_values\": 1083,\n        \"samples\": [\n          159.8000030517578,\n          294.0,\n          488.0\n        ],\n        \"semantic_type\": \"\",\n        \"description\": \"\"\n      }\n    },\n    {\n      \"column\": \"High\",\n      \"properties\": {\n        \"dtype\": \"number\",\n        \"std\": 221.00711113779863,\n        \"min\": 66.9000015258789,\n        \"max\": 1065.5999755859375,\n        \"num_unique_values\": 1137,\n        \"samples\": [\n          417.8999938964844,\n          472.0,\n          109.75\n        ],\n        \"semantic_type\": \"\",\n        \"description\": \"\"\n      }\n    },\n    {\n      \"column\": \"Low\",\n      \"properties\": {\n        \"dtype\": \"number\",\n        \"std\": 217.0976063585625,\n        \"min\": 63.5,\n        \"max\": 1021.0,\n        \"num_unique_values\": 1133,\n        \"samples\": [\n          395.5,\n          477.75,\n          323.3999938964844\n        ],\n        \"semantic_type\": \"\",\n        \"description\": \"\"\n      }\n    },\n    {\n      \"column\": \"Close\",\n      \"properties\": {\n        \"dtype\": \"number\",\n        \"std\": 219.02520912767264,\n        \"min\": 65.30000305175781,\n        \"max\": 1039.300048828125,\n        \"num_unique_values\": 1160,\n        \"samples\": [\n          404.29998779296875,\n          1004.6500244140625,\n          323.0\n        ],\n        \"semantic_type\": \"\",\n        \"description\": \"\"\n      }\n    },\n    {\n      \"column\": \"Adj Close\",\n      \"properties\": {\n        \"dtype\": \"number\",\n        \"std\": 218.98650297847354,\n        \"min\": 65.09711456298828,\n        \"max\": 1039.300048828125,\n        \"num_unique_values\": 1161,\n        \"samples\": [\n          292.4385681152344,\n          423.579833984375,\n          478.408935546875\n        ],\n        \"semantic_type\": \"\",\n        \"description\": \"\"\n      }\n    },\n    {\n      \"column\": \"Volume\",\n      \"properties\": {\n        \"dtype\": \"number\",\n        \"std\": 37014935,\n        \"min\": 2871205,\n        \"max\": 390577839,\n        \"num_unique_values\": 1235,\n        \"samples\": [\n          12240729,\n          31538128,\n          164083830\n        ],\n        \"semantic_type\": \"\",\n        \"description\": \"\"\n      }\n    }\n  ]\n}"
            }
          },
          "metadata": {},
          "execution_count": 5
        }
      ],
      "source": [
        "data.head()"
      ],
      "id": "dbbe3e6b"
    },
    {
      "cell_type": "code",
      "execution_count": null,
      "metadata": {
        "colab": {
          "base_uri": "https://localhost:8080/"
        },
        "id": "9d445949",
        "outputId": "3aca72fa-2aba-4f8a-e2c8-d790f350dd7e"
      },
      "outputs": [
        {
          "output_type": "execute_result",
          "data": {
            "text/plain": [
              "1235"
            ]
          },
          "metadata": {},
          "execution_count": 6
        }
      ],
      "source": [
        "len(data)"
      ],
      "id": "9d445949"
    },
    {
      "cell_type": "code",
      "execution_count": null,
      "metadata": {
        "colab": {
          "base_uri": "https://localhost:8080/",
          "height": 237
        },
        "id": "bf283ad5",
        "outputId": "a827da71-9dbf-40c8-9974-3d1cf6f67db8"
      },
      "outputs": [
        {
          "output_type": "execute_result",
          "data": {
            "text/plain": [
              "                   Open         High          Low        Close    Adj Close  \\\n",
              "Date                                                                          \n",
              "2024-04-09  1021.000000  1029.500000  1005.000000  1008.500000  1008.500000   \n",
              "2024-04-10  1012.250000  1021.000000  1010.000000  1013.500000  1013.500000   \n",
              "2024-04-12  1014.000000  1029.000000  1013.500000  1018.500000  1018.500000   \n",
              "2024-04-15   998.099976  1006.950012   978.500000   998.799988   998.799988   \n",
              "2024-04-16   990.000000  1004.900024   982.099976   992.799988   992.799988   \n",
              "\n",
              "              Volume  \n",
              "Date                  \n",
              "2024-04-09   8539041  \n",
              "2024-04-10   4554077  \n",
              "2024-04-12  11575194  \n",
              "2024-04-15  12632409  \n",
              "2024-04-16   9574762  "
            ],
            "text/html": [
              "\n",
              "  <div id=\"df-8a277f50-8568-4dd0-8fe8-7cd2970daac6\" class=\"colab-df-container\">\n",
              "    <div>\n",
              "<style scoped>\n",
              "    .dataframe tbody tr th:only-of-type {\n",
              "        vertical-align: middle;\n",
              "    }\n",
              "\n",
              "    .dataframe tbody tr th {\n",
              "        vertical-align: top;\n",
              "    }\n",
              "\n",
              "    .dataframe thead th {\n",
              "        text-align: right;\n",
              "    }\n",
              "</style>\n",
              "<table border=\"1\" class=\"dataframe\">\n",
              "  <thead>\n",
              "    <tr style=\"text-align: right;\">\n",
              "      <th></th>\n",
              "      <th>Open</th>\n",
              "      <th>High</th>\n",
              "      <th>Low</th>\n",
              "      <th>Close</th>\n",
              "      <th>Adj Close</th>\n",
              "      <th>Volume</th>\n",
              "    </tr>\n",
              "    <tr>\n",
              "      <th>Date</th>\n",
              "      <th></th>\n",
              "      <th></th>\n",
              "      <th></th>\n",
              "      <th></th>\n",
              "      <th></th>\n",
              "      <th></th>\n",
              "    </tr>\n",
              "  </thead>\n",
              "  <tbody>\n",
              "    <tr>\n",
              "      <th>2024-04-09</th>\n",
              "      <td>1021.000000</td>\n",
              "      <td>1029.500000</td>\n",
              "      <td>1005.000000</td>\n",
              "      <td>1008.500000</td>\n",
              "      <td>1008.500000</td>\n",
              "      <td>8539041</td>\n",
              "    </tr>\n",
              "    <tr>\n",
              "      <th>2024-04-10</th>\n",
              "      <td>1012.250000</td>\n",
              "      <td>1021.000000</td>\n",
              "      <td>1010.000000</td>\n",
              "      <td>1013.500000</td>\n",
              "      <td>1013.500000</td>\n",
              "      <td>4554077</td>\n",
              "    </tr>\n",
              "    <tr>\n",
              "      <th>2024-04-12</th>\n",
              "      <td>1014.000000</td>\n",
              "      <td>1029.000000</td>\n",
              "      <td>1013.500000</td>\n",
              "      <td>1018.500000</td>\n",
              "      <td>1018.500000</td>\n",
              "      <td>11575194</td>\n",
              "    </tr>\n",
              "    <tr>\n",
              "      <th>2024-04-15</th>\n",
              "      <td>998.099976</td>\n",
              "      <td>1006.950012</td>\n",
              "      <td>978.500000</td>\n",
              "      <td>998.799988</td>\n",
              "      <td>998.799988</td>\n",
              "      <td>12632409</td>\n",
              "    </tr>\n",
              "    <tr>\n",
              "      <th>2024-04-16</th>\n",
              "      <td>990.000000</td>\n",
              "      <td>1004.900024</td>\n",
              "      <td>982.099976</td>\n",
              "      <td>992.799988</td>\n",
              "      <td>992.799988</td>\n",
              "      <td>9574762</td>\n",
              "    </tr>\n",
              "  </tbody>\n",
              "</table>\n",
              "</div>\n",
              "    <div class=\"colab-df-buttons\">\n",
              "\n",
              "  <div class=\"colab-df-container\">\n",
              "    <button class=\"colab-df-convert\" onclick=\"convertToInteractive('df-8a277f50-8568-4dd0-8fe8-7cd2970daac6')\"\n",
              "            title=\"Convert this dataframe to an interactive table.\"\n",
              "            style=\"display:none;\">\n",
              "\n",
              "  <svg xmlns=\"http://www.w3.org/2000/svg\" height=\"24px\" viewBox=\"0 -960 960 960\">\n",
              "    <path d=\"M120-120v-720h720v720H120Zm60-500h600v-160H180v160Zm220 220h160v-160H400v160Zm0 220h160v-160H400v160ZM180-400h160v-160H180v160Zm440 0h160v-160H620v160ZM180-180h160v-160H180v160Zm440 0h160v-160H620v160Z\"/>\n",
              "  </svg>\n",
              "    </button>\n",
              "\n",
              "  <style>\n",
              "    .colab-df-container {\n",
              "      display:flex;\n",
              "      gap: 12px;\n",
              "    }\n",
              "\n",
              "    .colab-df-convert {\n",
              "      background-color: #E8F0FE;\n",
              "      border: none;\n",
              "      border-radius: 50%;\n",
              "      cursor: pointer;\n",
              "      display: none;\n",
              "      fill: #1967D2;\n",
              "      height: 32px;\n",
              "      padding: 0 0 0 0;\n",
              "      width: 32px;\n",
              "    }\n",
              "\n",
              "    .colab-df-convert:hover {\n",
              "      background-color: #E2EBFA;\n",
              "      box-shadow: 0px 1px 2px rgba(60, 64, 67, 0.3), 0px 1px 3px 1px rgba(60, 64, 67, 0.15);\n",
              "      fill: #174EA6;\n",
              "    }\n",
              "\n",
              "    .colab-df-buttons div {\n",
              "      margin-bottom: 4px;\n",
              "    }\n",
              "\n",
              "    [theme=dark] .colab-df-convert {\n",
              "      background-color: #3B4455;\n",
              "      fill: #D2E3FC;\n",
              "    }\n",
              "\n",
              "    [theme=dark] .colab-df-convert:hover {\n",
              "      background-color: #434B5C;\n",
              "      box-shadow: 0px 1px 3px 1px rgba(0, 0, 0, 0.15);\n",
              "      filter: drop-shadow(0px 1px 2px rgba(0, 0, 0, 0.3));\n",
              "      fill: #FFFFFF;\n",
              "    }\n",
              "  </style>\n",
              "\n",
              "    <script>\n",
              "      const buttonEl =\n",
              "        document.querySelector('#df-8a277f50-8568-4dd0-8fe8-7cd2970daac6 button.colab-df-convert');\n",
              "      buttonEl.style.display =\n",
              "        google.colab.kernel.accessAllowed ? 'block' : 'none';\n",
              "\n",
              "      async function convertToInteractive(key) {\n",
              "        const element = document.querySelector('#df-8a277f50-8568-4dd0-8fe8-7cd2970daac6');\n",
              "        const dataTable =\n",
              "          await google.colab.kernel.invokeFunction('convertToInteractive',\n",
              "                                                    [key], {});\n",
              "        if (!dataTable) return;\n",
              "\n",
              "        const docLinkHtml = 'Like what you see? Visit the ' +\n",
              "          '<a target=\"_blank\" href=https://colab.research.google.com/notebooks/data_table.ipynb>data table notebook</a>'\n",
              "          + ' to learn more about interactive tables.';\n",
              "        element.innerHTML = '';\n",
              "        dataTable['output_type'] = 'display_data';\n",
              "        await google.colab.output.renderOutput(dataTable, element);\n",
              "        const docLink = document.createElement('div');\n",
              "        docLink.innerHTML = docLinkHtml;\n",
              "        element.appendChild(docLink);\n",
              "      }\n",
              "    </script>\n",
              "  </div>\n",
              "\n",
              "\n",
              "<div id=\"df-0b904f46-9a39-4e5f-b31b-73a07fcd6264\">\n",
              "  <button class=\"colab-df-quickchart\" onclick=\"quickchart('df-0b904f46-9a39-4e5f-b31b-73a07fcd6264')\"\n",
              "            title=\"Suggest charts\"\n",
              "            style=\"display:none;\">\n",
              "\n",
              "<svg xmlns=\"http://www.w3.org/2000/svg\" height=\"24px\"viewBox=\"0 0 24 24\"\n",
              "     width=\"24px\">\n",
              "    <g>\n",
              "        <path d=\"M19 3H5c-1.1 0-2 .9-2 2v14c0 1.1.9 2 2 2h14c1.1 0 2-.9 2-2V5c0-1.1-.9-2-2-2zM9 17H7v-7h2v7zm4 0h-2V7h2v10zm4 0h-2v-4h2v4z\"/>\n",
              "    </g>\n",
              "</svg>\n",
              "  </button>\n",
              "\n",
              "<style>\n",
              "  .colab-df-quickchart {\n",
              "      --bg-color: #E8F0FE;\n",
              "      --fill-color: #1967D2;\n",
              "      --hover-bg-color: #E2EBFA;\n",
              "      --hover-fill-color: #174EA6;\n",
              "      --disabled-fill-color: #AAA;\n",
              "      --disabled-bg-color: #DDD;\n",
              "  }\n",
              "\n",
              "  [theme=dark] .colab-df-quickchart {\n",
              "      --bg-color: #3B4455;\n",
              "      --fill-color: #D2E3FC;\n",
              "      --hover-bg-color: #434B5C;\n",
              "      --hover-fill-color: #FFFFFF;\n",
              "      --disabled-bg-color: #3B4455;\n",
              "      --disabled-fill-color: #666;\n",
              "  }\n",
              "\n",
              "  .colab-df-quickchart {\n",
              "    background-color: var(--bg-color);\n",
              "    border: none;\n",
              "    border-radius: 50%;\n",
              "    cursor: pointer;\n",
              "    display: none;\n",
              "    fill: var(--fill-color);\n",
              "    height: 32px;\n",
              "    padding: 0;\n",
              "    width: 32px;\n",
              "  }\n",
              "\n",
              "  .colab-df-quickchart:hover {\n",
              "    background-color: var(--hover-bg-color);\n",
              "    box-shadow: 0 1px 2px rgba(60, 64, 67, 0.3), 0 1px 3px 1px rgba(60, 64, 67, 0.15);\n",
              "    fill: var(--button-hover-fill-color);\n",
              "  }\n",
              "\n",
              "  .colab-df-quickchart-complete:disabled,\n",
              "  .colab-df-quickchart-complete:disabled:hover {\n",
              "    background-color: var(--disabled-bg-color);\n",
              "    fill: var(--disabled-fill-color);\n",
              "    box-shadow: none;\n",
              "  }\n",
              "\n",
              "  .colab-df-spinner {\n",
              "    border: 2px solid var(--fill-color);\n",
              "    border-color: transparent;\n",
              "    border-bottom-color: var(--fill-color);\n",
              "    animation:\n",
              "      spin 1s steps(1) infinite;\n",
              "  }\n",
              "\n",
              "  @keyframes spin {\n",
              "    0% {\n",
              "      border-color: transparent;\n",
              "      border-bottom-color: var(--fill-color);\n",
              "      border-left-color: var(--fill-color);\n",
              "    }\n",
              "    20% {\n",
              "      border-color: transparent;\n",
              "      border-left-color: var(--fill-color);\n",
              "      border-top-color: var(--fill-color);\n",
              "    }\n",
              "    30% {\n",
              "      border-color: transparent;\n",
              "      border-left-color: var(--fill-color);\n",
              "      border-top-color: var(--fill-color);\n",
              "      border-right-color: var(--fill-color);\n",
              "    }\n",
              "    40% {\n",
              "      border-color: transparent;\n",
              "      border-right-color: var(--fill-color);\n",
              "      border-top-color: var(--fill-color);\n",
              "    }\n",
              "    60% {\n",
              "      border-color: transparent;\n",
              "      border-right-color: var(--fill-color);\n",
              "    }\n",
              "    80% {\n",
              "      border-color: transparent;\n",
              "      border-right-color: var(--fill-color);\n",
              "      border-bottom-color: var(--fill-color);\n",
              "    }\n",
              "    90% {\n",
              "      border-color: transparent;\n",
              "      border-bottom-color: var(--fill-color);\n",
              "    }\n",
              "  }\n",
              "</style>\n",
              "\n",
              "  <script>\n",
              "    async function quickchart(key) {\n",
              "      const quickchartButtonEl =\n",
              "        document.querySelector('#' + key + ' button');\n",
              "      quickchartButtonEl.disabled = true;  // To prevent multiple clicks.\n",
              "      quickchartButtonEl.classList.add('colab-df-spinner');\n",
              "      try {\n",
              "        const charts = await google.colab.kernel.invokeFunction(\n",
              "            'suggestCharts', [key], {});\n",
              "      } catch (error) {\n",
              "        console.error('Error during call to suggestCharts:', error);\n",
              "      }\n",
              "      quickchartButtonEl.classList.remove('colab-df-spinner');\n",
              "      quickchartButtonEl.classList.add('colab-df-quickchart-complete');\n",
              "    }\n",
              "    (() => {\n",
              "      let quickchartButtonEl =\n",
              "        document.querySelector('#df-0b904f46-9a39-4e5f-b31b-73a07fcd6264 button');\n",
              "      quickchartButtonEl.style.display =\n",
              "        google.colab.kernel.accessAllowed ? 'block' : 'none';\n",
              "    })();\n",
              "  </script>\n",
              "</div>\n",
              "\n",
              "    </div>\n",
              "  </div>\n"
            ],
            "application/vnd.google.colaboratory.intrinsic+json": {
              "type": "dataframe",
              "summary": "{\n  \"name\": \"data\",\n  \"rows\": 5,\n  \"fields\": [\n    {\n      \"column\": \"Date\",\n      \"properties\": {\n        \"dtype\": \"date\",\n        \"min\": \"2024-04-09 00:00:00\",\n        \"max\": \"2024-04-16 00:00:00\",\n        \"num_unique_values\": 5,\n        \"samples\": [\n          \"2024-04-10 00:00:00\",\n          \"2024-04-16 00:00:00\",\n          \"2024-04-12 00:00:00\"\n        ],\n        \"semantic_type\": \"\",\n        \"description\": \"\"\n      }\n    },\n    {\n      \"column\": \"Open\",\n      \"properties\": {\n        \"dtype\": \"number\",\n        \"std\": 12.656504631895393,\n        \"min\": 990.0,\n        \"max\": 1021.0,\n        \"num_unique_values\": 5,\n        \"samples\": [\n          1012.25,\n          990.0,\n          1014.0\n        ],\n        \"semantic_type\": \"\",\n        \"description\": \"\"\n      }\n    },\n    {\n      \"column\": \"High\",\n      \"properties\": {\n        \"dtype\": \"number\",\n        \"std\": 11.785553347226193,\n        \"min\": 1004.9000244140625,\n        \"max\": 1029.5,\n        \"num_unique_values\": 5,\n        \"samples\": [\n          1021.0,\n          1004.9000244140625,\n          1029.0\n        ],\n        \"semantic_type\": \"\",\n        \"description\": \"\"\n      }\n    },\n    {\n      \"column\": \"Low\",\n      \"properties\": {\n        \"dtype\": \"number\",\n        \"std\": 16.325966798160852,\n        \"min\": 978.5,\n        \"max\": 1013.5,\n        \"num_unique_values\": 5,\n        \"samples\": [\n          1010.0,\n          982.0999755859375,\n          1013.5\n        ],\n        \"semantic_type\": \"\",\n        \"description\": \"\"\n      }\n    },\n    {\n      \"column\": \"Close\",\n      \"properties\": {\n        \"dtype\": \"number\",\n        \"std\": 10.53504293483024,\n        \"min\": 992.7999877929688,\n        \"max\": 1018.5,\n        \"num_unique_values\": 5,\n        \"samples\": [\n          1013.5,\n          992.7999877929688,\n          1018.5\n        ],\n        \"semantic_type\": \"\",\n        \"description\": \"\"\n      }\n    },\n    {\n      \"column\": \"Adj Close\",\n      \"properties\": {\n        \"dtype\": \"number\",\n        \"std\": 10.53504293483024,\n        \"min\": 992.7999877929688,\n        \"max\": 1018.5,\n        \"num_unique_values\": 5,\n        \"samples\": [\n          1013.5,\n          992.7999877929688,\n          1018.5\n        ],\n        \"semantic_type\": \"\",\n        \"description\": \"\"\n      }\n    },\n    {\n      \"column\": \"Volume\",\n      \"properties\": {\n        \"dtype\": \"number\",\n        \"std\": 3139729,\n        \"min\": 4554077,\n        \"max\": 12632409,\n        \"num_unique_values\": 5,\n        \"samples\": [\n          4554077,\n          9574762,\n          11575194\n        ],\n        \"semantic_type\": \"\",\n        \"description\": \"\"\n      }\n    }\n  ]\n}"
            }
          },
          "metadata": {},
          "execution_count": 7
        }
      ],
      "source": [
        "data.tail()"
      ],
      "id": "bf283ad5"
    },
    {
      "cell_type": "code",
      "execution_count": null,
      "metadata": {
        "id": "6292e20a"
      },
      "outputs": [],
      "source": [
        "opn = data[['Open']]"
      ],
      "id": "6292e20a"
    },
    {
      "cell_type": "code",
      "execution_count": null,
      "metadata": {
        "colab": {
          "base_uri": "https://localhost:8080/",
          "height": 439
        },
        "id": "21e132d8",
        "outputId": "f6f9ea1f-262b-4b90-a8c5-09c88d0509df"
      },
      "outputs": [
        {
          "output_type": "execute_result",
          "data": {
            "text/plain": [
              "<Axes: xlabel='Date'>"
            ]
          },
          "metadata": {},
          "execution_count": 9
        },
        {
          "output_type": "display_data",
          "data": {
            "text/plain": [
              "<Figure size 640x480 with 1 Axes>"
            ],
            "image/png": "[encoded data removed]"
          },
          "metadata": {}
        }
      ],
      "source": [
        "opn.plot()"
      ],
      "id": "21e132d8"
    },
    {
      "cell_type": "code",
      "execution_count": null,
      "metadata": {
        "id": "c5194440"
      },
      "outputs": [],
      "source": [
        "import matplotlib.pyplot as plt"
      ],
      "id": "c5194440"
    },
    {
      "cell_type": "code",
      "execution_count": null,
      "metadata": {
        "id": "8038cb6a"
      },
      "outputs": [],
      "source": [
        "ds = opn.values"
      ],
      "id": "8038cb6a"
    },
    {
      "cell_type": "code",
      "execution_count": null,
      "metadata": {
        "colab": {
          "base_uri": "https://localhost:8080/"
        },
        "id": "69b08672",
        "outputId": "55ad5487-d003-4cf6-b616-5aa8bf1d51c9"
      },
      "outputs": [
        {
          "output_type": "execute_result",
          "data": {
            "text/plain": [
              "array([[ 233.80000305],\n",
              "       [ 231.8999939 ],\n",
              "       [ 235.        ],\n",
              "       ...,\n",
              "       [1014.        ],\n",
              "       [ 998.09997559],\n",
              "       [ 990.        ]])"
            ]
          },
          "metadata": {},
          "execution_count": 12
        }
      ],
      "source": [
        "ds"
      ],
      "id": "69b08672"
    },
    {
      "cell_type": "code",
      "execution_count": null,
      "metadata": {
        "colab": {
          "base_uri": "https://localhost:8080/",
          "height": 447
        },
        "id": "af022e3c",
        "outputId": "5d2105a3-6be7-405d-eced-3dd797e67a04"
      },
      "outputs": [
        {
          "output_type": "execute_result",
          "data": {
            "text/plain": [
              "[<matplotlib.lines.Line2D at 0x78c69ff2d150>]"
            ]
          },
          "metadata": {},
          "execution_count": 13
        },
        {
          "output_type": "display_data",
          "data": {
            "text/plain": [
              "<Figure size 640x480 with 1 Axes>"
            ],
            "image/png": "[encoded data removed]"
          },
          "metadata": {}
        }
      ],
      "source": [
        "plt.plot(ds)"
      ],
      "id": "af022e3c"
    },
    {
      "cell_type": "code",
      "execution_count": null,
      "metadata": {
        "id": "0e73b789"
      },
      "outputs": [],
      "source": [
        "import numpy as np"
      ],
      "id": "0e73b789"
    },
    {
      "cell_type": "code",
      "execution_count": null,
      "metadata": {
        "id": "0e6c1c22"
      },
      "outputs": [],
      "source": [
        "from sklearn.preprocessing import MinMaxScaler"
      ],
      "id": "0e6c1c22"
    },
    {
      "cell_type": "code",
      "execution_count": null,
      "metadata": {
        "id": "cf6a3e1b"
      },
      "outputs": [],
      "source": [
        "#Using MinMaxScaler for normalizing data between 0 & 1\n",
        "normalizer = MinMaxScaler(feature_range=(0,1))\n",
        "ds_scaled = normalizer.fit_transform(np.array(ds).reshape(-1,1))"
      ],
      "id": "cf6a3e1b"
    },
    {
      "cell_type": "code",
      "execution_count": null,
      "metadata": {
        "colab": {
          "base_uri": "https://localhost:8080/"
        },
        "id": "7dbea1d5",
        "outputId": "b1c82bcd-9e2b-43a2-82b8-c53398db783b"
      },
      "outputs": [
        {
          "output_type": "execute_result",
          "data": {
            "text/plain": [
              "(1235, 1235)"
            ]
          },
          "metadata": {},
          "execution_count": 17
        }
      ],
      "source": [
        "len(ds_scaled), len(ds)"
      ],
      "id": "7dbea1d5"
    },
    {
      "cell_type": "code",
      "execution_count": null,
      "metadata": {
        "id": "a20c5654"
      },
      "outputs": [],
      "source": [
        "#Defining test and train data sizes\n",
        "train_size = int(len(ds_scaled)*0.70)\n",
        "test_size = len(ds_scaled) - train_size"
      ],
      "id": "a20c5654"
    },
    {
      "cell_type": "code",
      "execution_count": null,
      "metadata": {
        "colab": {
          "base_uri": "https://localhost:8080/"
        },
        "id": "b964aa4e",
        "outputId": "7bd1f948-f0d5-4778-9bae-6a20f49b04fe"
      },
      "outputs": [
        {
          "output_type": "execute_result",
          "data": {
            "text/plain": [
              "(864, 371)"
            ]
          },
          "metadata": {},
          "execution_count": 19
        }
      ],
      "source": [
        "train_size,test_size"
      ],
      "id": "b964aa4e"
    },
    {
      "cell_type": "code",
      "execution_count": null,
      "metadata": {
        "id": "25ca615e"
      },
      "outputs": [],
      "source": [
        "#Splitting data between train and test\n",
        "ds_train, ds_test = ds_scaled[0:train_size,:], ds_scaled[train_size:len(ds_scaled),:1]"
      ],
      "id": "25ca615e"
    },
    {
      "cell_type": "code",
      "execution_count": null,
      "metadata": {
        "colab": {
          "base_uri": "https://localhost:8080/"
        },
        "id": "95913f28",
        "outputId": "a63c738a-9732-4284-e1b0-4eebb3922317"
      },
      "outputs": [
        {
          "output_type": "execute_result",
          "data": {
            "text/plain": [
              "(864, 371)"
            ]
          },
          "metadata": {},
          "execution_count": 21
        }
      ],
      "source": [
        "len(ds_train),len(ds_test)"
      ],
      "id": "95913f28"
    },
    {
      "cell_type": "code",
      "execution_count": null,
      "metadata": {
        "id": "5dd0b45e"
      },
      "outputs": [],
      "source": [
        "#creating dataset in time series for LSTM model\n",
        "#X[100,120,140,160,180] : Y[200]\n",
        "def create_ds(dataset,step):\n",
        "    Xtrain, Ytrain = [], []\n",
        "    for i in range(len(dataset)-step-1):\n",
        "        a = dataset[i:(i+step), 0]\n",
        "        Xtrain.append(a)\n",
        "        Ytrain.append(dataset[i + step, 0])\n",
        "    return np.array(Xtrain), np.array(Ytrain)"
      ],
      "id": "5dd0b45e"
    },
    {
      "cell_type": "code",
      "execution_count": null,
      "metadata": {
        "id": "d28b7d1d"
      },
      "outputs": [],
      "source": [
        "#Taking 100 days price as one record for training\n",
        "time_stamp = 100\n",
        "X_train, y_train = create_ds(ds_train,time_stamp)\n",
        "X_test, y_test = create_ds(ds_test,time_stamp)"
      ],
      "id": "d28b7d1d"
    },
    {
      "cell_type": "code",
      "execution_count": null,
      "metadata": {
        "colab": {
          "base_uri": "https://localhost:8080/"
        },
        "id": "03ce9096",
        "outputId": "7652c541-4f2f-4b38-82f7-b224bdbb37da"
      },
      "outputs": [
        {
          "output_type": "execute_result",
          "data": {
            "text/plain": [
              "((763, 100), (763,))"
            ]
          },
          "metadata": {},
          "execution_count": 24
        }
      ],
      "source": [
        "X_train.shape,y_train.shape"
      ],
      "id": "03ce9096"
    },
    {
      "cell_type": "code",
      "execution_count": null,
      "metadata": {
        "colab": {
          "base_uri": "https://localhost:8080/"
        },
        "id": "84acdd72",
        "outputId": "15b24603-1917-47de-b7e9-5a2547e5c3af"
      },
      "outputs": [
        {
          "output_type": "execute_result",
          "data": {
            "text/plain": [
              "((270, 100), (270,))"
            ]
          },
          "metadata": {},
          "execution_count": 25
        }
      ],
      "source": [
        "X_test.shape, y_test.shape"
      ],
      "id": "84acdd72"
    },
    {
      "cell_type": "code",
      "execution_count": null,
      "metadata": {
        "id": "c657d193"
      },
      "outputs": [],
      "source": [
        "#Reshaping data to fit into LSTM model\n",
        "X_train = X_train.reshape(X_train.shape[0],X_train.shape[1] , 1)\n",
        "X_test = X_test.reshape(X_test.shape[0],X_test.shape[1] , 1)"
      ],
      "id": "c657d193"
    },
    {
      "cell_type": "code",
      "execution_count": null,
      "metadata": {
        "id": "82844671"
      },
      "outputs": [],
      "source": [
        "from keras.models import Sequential\n",
        "from keras.layers import Dense, LSTM"
      ],
      "id": "82844671"
    },
    {
      "cell_type": "code",
      "execution_count": null,
      "metadata": {
        "colab": {
          "base_uri": "https://localhost:8080/"
        },
        "id": "b5250913",
        "outputId": "66c84700-560b-4906-ff7a-379a599cfafd"
      },
      "outputs": [
        {
          "output_type": "stream",
          "name": "stdout",
          "text": [
            "Model: \"sequential\"\n",
            "_________________________________________________________________\n",
            " Layer (type)                Output Shape              Param #   \n",
            "=================================================================\n",
            " lstm (LSTM)                 (None, 100, 50)           10400     \n",
            "                                                                 \n",
            " lstm_1 (LSTM)               (None, 100, 50)           20200     \n",
            "                                                                 \n",
            " lstm_2 (LSTM)               (None, 50)                20200     \n",
            "                                                                 \n",
            " dense (Dense)               (None, 1)                 51        \n",
            "                                                                 \n",
            "=================================================================\n",
            "Total params: 50851 (198.64 KB)\n",
            "Trainable params: 50851 (198.64 KB)\n",
            "Non-trainable params: 0 (0.00 Byte)\n",
            "_________________________________________________________________\n"
          ]
        }
      ],
      "source": [
        "#Creating LSTM model using keras\n",
        "model = Sequential()\n",
        "model.add(LSTM(units=50,return_sequences=True,input_shape=(X_train.shape[1],1)))\n",
        "model.add(LSTM(units=50,return_sequences=True))\n",
        "model.add(LSTM(units=50))\n",
        "model.add(Dense(units=1,activation='linear'))\n",
        "model.summary()"
      ],
      "id": "b5250913"
    },
    {
      "cell_type": "code",
      "execution_count": null,
      "metadata": {
        "colab": {
          "base_uri": "https://localhost:8080/"
        },
        "id": "7e8ff062",
        "outputId": "3daab8a3-c908-4dae-c61b-2bdc9bcfd7eb"
      },
      "outputs": [
        {
          "output_type": "stream",
          "name": "stdout",
          "text": [
            "Epoch 1/100\n",
            "12/12 [==============================] - 11s 376ms/step - loss: 0.0265 - val_loss: 0.0397\n",
            "Epoch 2/100\n",
            "12/12 [==============================] - 3s 276ms/step - loss: 0.0048 - val_loss: 0.0014\n",
            "Epoch 3/100\n",
            "12/12 [==============================] - 2s 196ms/step - loss: 0.0018 - val_loss: 9.1777e-04\n",
            "Epoch 4/100\n",
            "12/12 [==============================] - 3s 230ms/step - loss: 0.0012 - val_loss: 0.0018\n",
            "Epoch 5/100\n",
            "12/12 [==============================] - 5s 411ms/step - loss: 9.7723e-04 - val_loss: 0.0042\n",
            "Epoch 6/100\n",
            "12/12 [==============================] - 5s 432ms/step - loss: 9.2286e-04 - val_loss: 0.0039\n",
            "Epoch 7/100\n",
            "12/12 [==============================] - 5s 435ms/step - loss: 8.8971e-04 - val_loss: 0.0048\n",
            "Epoch 8/100\n",
            "12/12 [==============================] - 6s 483ms/step - loss: 8.5247e-04 - val_loss: 0.0040\n",
            "Epoch 9/100\n",
            "12/12 [==============================] - 5s 402ms/step - loss: 7.8041e-04 - val_loss: 0.0027\n",
            "Epoch 10/100\n",
            "12/12 [==============================] - 4s 333ms/step - loss: 7.5958e-04 - val_loss: 0.0026\n",
            "Epoch 11/100\n",
            "12/12 [==============================] - 3s 284ms/step - loss: 7.3089e-04 - val_loss: 0.0028\n",
            "Epoch 12/100\n",
            "12/12 [==============================] - 2s 187ms/step - loss: 6.9530e-04 - val_loss: 0.0037\n",
            "Epoch 13/100\n",
            "12/12 [==============================] - 3s 217ms/step - loss: 6.5510e-04 - val_loss: 0.0033\n",
            "Epoch 14/100\n",
            "12/12 [==============================] - 3s 231ms/step - loss: 6.2454e-04 - val_loss: 0.0070\n",
            "Epoch 15/100\n",
            "12/12 [==============================] - 2s 198ms/step - loss: 6.5719e-04 - val_loss: 0.0042\n",
            "Epoch 16/100\n",
            "12/12 [==============================] - 4s 325ms/step - loss: 6.1675e-04 - val_loss: 0.0043\n",
            "Epoch 17/100\n",
            "12/12 [==============================] - 3s 233ms/step - loss: 5.5981e-04 - val_loss: 0.0048\n",
            "Epoch 18/100\n",
            "12/12 [==============================] - 2s 205ms/step - loss: 5.3853e-04 - val_loss: 0.0062\n",
            "Epoch 19/100\n",
            "12/12 [==============================] - 2s 212ms/step - loss: 5.4906e-04 - val_loss: 0.0029\n",
            "Epoch 20/100\n",
            "12/12 [==============================] - 3s 253ms/step - loss: 5.4056e-04 - val_loss: 0.0083\n",
            "Epoch 21/100\n",
            "12/12 [==============================] - 3s 235ms/step - loss: 5.2417e-04 - val_loss: 0.0038\n",
            "Epoch 22/100\n",
            "12/12 [==============================] - 2s 201ms/step - loss: 4.9407e-04 - val_loss: 0.0053\n",
            "Epoch 23/100\n",
            "12/12 [==============================] - 2s 208ms/step - loss: 5.1215e-04 - val_loss: 0.0070\n",
            "Epoch 24/100\n",
            "12/12 [==============================] - 3s 221ms/step - loss: 5.5282e-04 - val_loss: 0.0038\n",
            "Epoch 25/100\n",
            "12/12 [==============================] - 3s 286ms/step - loss: 4.8887e-04 - val_loss: 0.0046\n",
            "Epoch 26/100\n",
            "12/12 [==============================] - 3s 272ms/step - loss: 4.9123e-04 - val_loss: 0.0090\n",
            "Epoch 27/100\n",
            "12/12 [==============================] - 2s 193ms/step - loss: 5.3853e-04 - val_loss: 0.0027\n",
            "Epoch 28/100\n",
            "12/12 [==============================] - 2s 211ms/step - loss: 4.9416e-04 - val_loss: 0.0087\n",
            "Epoch 29/100\n",
            "12/12 [==============================] - 3s 223ms/step - loss: 5.0538e-04 - val_loss: 0.0040\n",
            "Epoch 30/100\n",
            "12/12 [==============================] - 4s 355ms/step - loss: 4.6536e-04 - val_loss: 0.0039\n",
            "Epoch 31/100\n",
            "12/12 [==============================] - 2s 208ms/step - loss: 4.2543e-04 - val_loss: 0.0062\n",
            "Epoch 32/100\n",
            "12/12 [==============================] - 2s 195ms/step - loss: 4.2590e-04 - val_loss: 0.0044\n",
            "Epoch 33/100\n",
            "12/12 [==============================] - 2s 192ms/step - loss: 4.2145e-04 - val_loss: 0.0031\n",
            "Epoch 34/100\n",
            "12/12 [==============================] - 3s 245ms/step - loss: 4.3222e-04 - val_loss: 0.0064\n",
            "Epoch 35/100\n",
            "12/12 [==============================] - 3s 251ms/step - loss: 4.3984e-04 - val_loss: 0.0034\n",
            "Epoch 36/100\n",
            "12/12 [==============================] - 3s 218ms/step - loss: 4.2610e-04 - val_loss: 0.0054\n",
            "Epoch 37/100\n",
            "12/12 [==============================] - 3s 215ms/step - loss: 4.0196e-04 - val_loss: 0.0045\n",
            "Epoch 38/100\n",
            "12/12 [==============================] - 2s 200ms/step - loss: 4.1079e-04 - val_loss: 0.0050\n",
            "Epoch 39/100\n",
            "12/12 [==============================] - 3s 278ms/step - loss: 4.2123e-04 - val_loss: 0.0050\n",
            "Epoch 40/100\n",
            "12/12 [==============================] - 5s 395ms/step - loss: 3.8711e-04 - val_loss: 0.0041\n",
            "Epoch 41/100\n",
            "12/12 [==============================] - 2s 200ms/step - loss: 4.0635e-04 - val_loss: 0.0060\n",
            "Epoch 42/100\n",
            "12/12 [==============================] - 3s 248ms/step - loss: 4.1246e-04 - val_loss: 0.0025\n",
            "Epoch 43/100\n",
            "12/12 [==============================] - 4s 381ms/step - loss: 3.7650e-04 - val_loss: 0.0054\n",
            "Epoch 44/100\n",
            "12/12 [==============================] - 2s 199ms/step - loss: 3.8605e-04 - val_loss: 0.0023\n",
            "Epoch 45/100\n",
            "12/12 [==============================] - 2s 206ms/step - loss: 4.0815e-04 - val_loss: 0.0039\n",
            "Epoch 46/100\n",
            "12/12 [==============================] - 2s 191ms/step - loss: 3.7668e-04 - val_loss: 0.0040\n",
            "Epoch 47/100\n",
            "12/12 [==============================] - 3s 221ms/step - loss: 3.9026e-04 - val_loss: 0.0027\n",
            "Epoch 48/100\n",
            "12/12 [==============================] - 4s 318ms/step - loss: 3.6019e-04 - val_loss: 0.0047\n",
            "Epoch 49/100\n",
            "12/12 [==============================] - 3s 210ms/step - loss: 3.7043e-04 - val_loss: 0.0031\n",
            "Epoch 50/100\n",
            "12/12 [==============================] - 3s 212ms/step - loss: 3.4632e-04 - val_loss: 0.0039\n",
            "Epoch 51/100\n",
            "12/12 [==============================] - 3s 213ms/step - loss: 3.4455e-04 - val_loss: 0.0023\n",
            "Epoch 52/100\n",
            "12/12 [==============================] - 3s 232ms/step - loss: 3.5100e-04 - val_loss: 0.0041\n",
            "Epoch 53/100\n",
            "12/12 [==============================] - 3s 279ms/step - loss: 3.5527e-04 - val_loss: 0.0043\n",
            "Epoch 54/100\n",
            "12/12 [==============================] - 2s 192ms/step - loss: 3.5663e-04 - val_loss: 0.0027\n",
            "Epoch 55/100\n",
            "12/12 [==============================] - 2s 194ms/step - loss: 3.3257e-04 - val_loss: 0.0030\n",
            "Epoch 56/100\n",
            "12/12 [==============================] - 2s 210ms/step - loss: 3.1751e-04 - val_loss: 0.0032\n",
            "Epoch 57/100\n",
            "12/12 [==============================] - 3s 224ms/step - loss: 3.1173e-04 - val_loss: 0.0017\n",
            "Epoch 58/100\n",
            "12/12 [==============================] - 3s 262ms/step - loss: 3.1907e-04 - val_loss: 0.0030\n",
            "Epoch 59/100\n",
            "12/12 [==============================] - 2s 201ms/step - loss: 3.0409e-04 - val_loss: 0.0033\n",
            "Epoch 60/100\n",
            "12/12 [==============================] - 2s 200ms/step - loss: 3.1083e-04 - val_loss: 0.0027\n",
            "Epoch 61/100\n",
            "12/12 [==============================] - 3s 221ms/step - loss: 3.0919e-04 - val_loss: 0.0045\n",
            "Epoch 62/100\n",
            "12/12 [==============================] - 3s 267ms/step - loss: 3.0897e-04 - val_loss: 0.0014\n",
            "Epoch 63/100\n",
            "12/12 [==============================] - 3s 218ms/step - loss: 3.1481e-04 - val_loss: 0.0035\n",
            "Epoch 64/100\n",
            "12/12 [==============================] - 2s 201ms/step - loss: 3.0710e-04 - val_loss: 0.0025\n",
            "Epoch 65/100\n",
            "12/12 [==============================] - 2s 210ms/step - loss: 2.8635e-04 - val_loss: 0.0019\n",
            "Epoch 66/100\n",
            "12/12 [==============================] - 2s 198ms/step - loss: 2.8766e-04 - val_loss: 0.0033\n",
            "Epoch 67/100\n",
            "12/12 [==============================] - 3s 283ms/step - loss: 2.7135e-04 - val_loss: 0.0034\n",
            "Epoch 68/100\n",
            "12/12 [==============================] - 3s 228ms/step - loss: 2.7931e-04 - val_loss: 0.0024\n",
            "Epoch 69/100\n",
            "12/12 [==============================] - 3s 218ms/step - loss: 3.2185e-04 - val_loss: 0.0016\n",
            "Epoch 70/100\n",
            "12/12 [==============================] - 2s 210ms/step - loss: 2.8312e-04 - val_loss: 0.0019\n",
            "Epoch 71/100\n",
            "12/12 [==============================] - 2s 210ms/step - loss: 2.6647e-04 - val_loss: 0.0026\n",
            "Epoch 72/100\n",
            "12/12 [==============================] - 4s 308ms/step - loss: 2.6185e-04 - val_loss: 0.0020\n",
            "Epoch 73/100\n",
            "12/12 [==============================] - 2s 202ms/step - loss: 2.6681e-04 - val_loss: 0.0023\n",
            "Epoch 74/100\n",
            "12/12 [==============================] - 2s 186ms/step - loss: 2.7231e-04 - val_loss: 0.0012\n",
            "Epoch 75/100\n",
            "12/12 [==============================] - 2s 198ms/step - loss: 2.6623e-04 - val_loss: 0.0020\n",
            "Epoch 76/100\n",
            "12/12 [==============================] - 2s 198ms/step - loss: 2.5773e-04 - val_loss: 0.0020\n",
            "Epoch 77/100\n",
            "12/12 [==============================] - 3s 290ms/step - loss: 2.5317e-04 - val_loss: 0.0012\n",
            "Epoch 78/100\n",
            "12/12 [==============================] - 2s 189ms/step - loss: 2.4481e-04 - val_loss: 0.0021\n",
            "Epoch 79/100\n",
            "12/12 [==============================] - 3s 217ms/step - loss: 2.3177e-04 - val_loss: 0.0020\n",
            "Epoch 80/100\n",
            "12/12 [==============================] - 2s 203ms/step - loss: 2.3268e-04 - val_loss: 0.0027\n",
            "Epoch 81/100\n",
            "12/12 [==============================] - 3s 221ms/step - loss: 2.5477e-04 - val_loss: 0.0031\n",
            "Epoch 82/100\n",
            "12/12 [==============================] - 4s 312ms/step - loss: 2.3679e-04 - val_loss: 0.0031\n",
            "Epoch 83/100\n",
            "12/12 [==============================] - 2s 189ms/step - loss: 2.2587e-04 - val_loss: 9.6550e-04\n",
            "Epoch 84/100\n",
            "12/12 [==============================] - 3s 214ms/step - loss: 2.3584e-04 - val_loss: 0.0012\n",
            "Epoch 85/100\n",
            "12/12 [==============================] - 2s 205ms/step - loss: 2.1871e-04 - val_loss: 0.0017\n",
            "Epoch 86/100\n",
            "12/12 [==============================] - 2s 191ms/step - loss: 2.0976e-04 - val_loss: 0.0012\n",
            "Epoch 87/100\n",
            "12/12 [==============================] - 3s 287ms/step - loss: 2.2526e-04 - val_loss: 0.0017\n",
            "Epoch 88/100\n",
            "12/12 [==============================] - 2s 187ms/step - loss: 2.1189e-04 - val_loss: 0.0010\n",
            "Epoch 89/100\n",
            "12/12 [==============================] - 2s 186ms/step - loss: 2.0916e-04 - val_loss: 0.0020\n",
            "Epoch 90/100\n",
            "12/12 [==============================] - 2s 212ms/step - loss: 2.1631e-04 - val_loss: 0.0022\n",
            "Epoch 91/100\n",
            "12/12 [==============================] - 2s 210ms/step - loss: 2.0292e-04 - val_loss: 0.0014\n",
            "Epoch 92/100\n",
            "12/12 [==============================] - 4s 314ms/step - loss: 1.9849e-04 - val_loss: 0.0021\n",
            "Epoch 93/100\n",
            "12/12 [==============================] - 2s 205ms/step - loss: 1.9770e-04 - val_loss: 0.0015\n",
            "Epoch 94/100\n",
            "12/12 [==============================] - 2s 190ms/step - loss: 1.9187e-04 - val_loss: 0.0011\n",
            "Epoch 95/100\n",
            "12/12 [==============================] - 2s 202ms/step - loss: 1.8586e-04 - val_loss: 0.0017\n",
            "Epoch 96/100\n",
            "12/12 [==============================] - 3s 238ms/step - loss: 1.9977e-04 - val_loss: 0.0013\n",
            "Epoch 97/100\n",
            "12/12 [==============================] - 3s 289ms/step - loss: 2.1566e-04 - val_loss: 0.0011\n",
            "Epoch 98/100\n",
            "12/12 [==============================] - 3s 217ms/step - loss: 2.0525e-04 - val_loss: 9.5709e-04\n",
            "Epoch 99/100\n",
            "12/12 [==============================] - 2s 202ms/step - loss: 1.8627e-04 - val_loss: 0.0017\n",
            "Epoch 100/100\n",
            "12/12 [==============================] - 2s 197ms/step - loss: 1.8797e-04 - val_loss: 0.0019\n"
          ]
        },
        {
          "output_type": "execute_result",
          "data": {
            "text/plain": [
              "<keras.src.callbacks.History at 0x78c63ce4e320>"
            ]
          },
          "metadata": {},
          "execution_count": 29
        }
      ],
      "source": [
        "#Training model with adam optimizer and mean squared error loss function\n",
        "model.compile(loss='mean_squared_error',optimizer='adam')\n",
        "model.fit(X_train,y_train,validation_data=(X_test,y_test),epochs=100,batch_size=64)"
      ],
      "id": "7e8ff062"
    },
    {
      "cell_type": "code",
      "execution_count": null,
      "metadata": {
        "colab": {
          "base_uri": "https://localhost:8080/",
          "height": 447
        },
        "id": "18b1ba6a",
        "outputId": "7f4921a6-f522-4892-c22c-c366ba6e966f"
      },
      "outputs": [
        {
          "output_type": "execute_result",
          "data": {
            "text/plain": [
              "[<matplotlib.lines.Line2D at 0x78c62bc9ae30>]"
            ]
          },
          "metadata": {},
          "execution_count": 30
        },
        {
          "output_type": "display_data",
          "data": {
            "text/plain": [
              "<Figure size 640x480 with 1 Axes>"
            ],
            "image/png": "[encoded data removed]"
          },
          "metadata": {}
        }
      ],
      "source": [
        "#PLotting loss, it shows that loss has decreased significantly and model trained well\n",
        "loss = model.history.history['loss']\n",
        "plt.plot(loss)"
      ],
      "id": "18b1ba6a"
    },
    {
      "cell_type": "code",
      "execution_count": null,
      "metadata": {
        "colab": {
          "base_uri": "https://localhost:8080/"
        },
        "id": "3e7f2fc8",
        "outputId": "57da7fe3-91c2-48e5-9f40-9d77a760541b"
      },
      "outputs": [
        {
          "output_type": "stream",
          "name": "stdout",
          "text": [
            "24/24 [==============================] - 2s 46ms/step\n",
            "9/9 [==============================] - 1s 55ms/step\n"
          ]
        }
      ],
      "source": [
        "#Predicitng on train and test data\n",
        "train_predict = model.predict(X_train)\n",
        "test_predict = model.predict(X_test)"
      ],
      "id": "3e7f2fc8"
    },
    {
      "cell_type": "code",
      "execution_count": null,
      "metadata": {
        "id": "c2d6c2d5"
      },
      "outputs": [],
      "source": [
        "#Inverse transform to get actual value\n",
        "train_predict = normalizer.inverse_transform(train_predict)\n",
        "test_predict = normalizer.inverse_transform(test_predict)"
      ],
      "id": "c2d6c2d5"
    },
    {
      "cell_type": "code",
      "execution_count": null,
      "metadata": {
        "colab": {
          "base_uri": "https://localhost:8080/",
          "height": 447
        },
        "id": "9d0543ad",
        "outputId": "6924c89e-502e-4006-ea88-0466d904e2a8"
      },
      "outputs": [
        {
          "output_type": "execute_result",
          "data": {
            "text/plain": [
              "[<matplotlib.lines.Line2D at 0x78c63d74b190>]"
            ]
          },
          "metadata": {},
          "execution_count": 33
        },
        {
          "output_type": "display_data",
          "data": {
            "text/plain": [
              "<Figure size 640x480 with 1 Axes>"
            ],
            "image/png": "[encoded data removed]"
          },
          "metadata": {}
        }
      ],
      "source": [
        "#Comparing using visuals\n",
        "plt.plot(normalizer.inverse_transform(ds_scaled))\n",
        "plt.plot(train_predict)\n",
        "plt.plot(test_predict)"
      ],
      "id": "9d0543ad"
    },
    {
      "cell_type": "code",
      "execution_count": null,
      "metadata": {
        "colab": {
          "base_uri": "https://localhost:8080/"
        },
        "id": "55300bae",
        "outputId": "4824c941-f1cb-438c-e11a-4a5238a4fdbf"
      },
      "outputs": [
        {
          "output_type": "execute_result",
          "data": {
            "text/plain": [
              "numpy.ndarray"
            ]
          },
          "metadata": {},
          "execution_count": 34
        }
      ],
      "source": [
        "type(train_predict)"
      ],
      "id": "55300bae"
    },
    {
      "cell_type": "code",
      "execution_count": null,
      "metadata": {
        "id": "bf6d5613"
      },
      "outputs": [],
      "source": [
        "test = np.vstack((train_predict,test_predict))"
      ],
      "id": "bf6d5613"
    },
    {
      "cell_type": "code",
      "execution_count": null,
      "metadata": {
        "colab": {
          "base_uri": "https://localhost:8080/",
          "height": 447
        },
        "id": "41b272ff",
        "outputId": "29e083b4-28a9-4990-876f-94db28b6806b"
      },
      "outputs": [
        {
          "output_type": "execute_result",
          "data": {
            "text/plain": [
              "[<matplotlib.lines.Line2D at 0x78c63d5fe380>]"
            ]
          },
          "metadata": {},
          "execution_count": 36
        },
        {
          "output_type": "display_data",
          "data": {
            "text/plain": [
              "<Figure size 640x480 with 1 Axes>"
            ],
            "image/png": "[encoded data removed]"
          },
          "metadata": {}
        }
      ],
      "source": [
        "#Combining the predited data to create uniform data visualization\n",
        "plt.plot(normalizer.inverse_transform(ds_scaled))\n",
        "plt.plot(test)"
      ],
      "id": "41b272ff"
    },
    {
      "cell_type": "code",
      "execution_count": null,
      "metadata": {
        "colab": {
          "base_uri": "https://localhost:8080/"
        },
        "id": "16af9283",
        "outputId": "85de8f18-bfb3-4531-b3e4-1c685f202fa5"
      },
      "outputs": [
        {
          "output_type": "execute_result",
          "data": {
            "text/plain": [
              "371"
            ]
          },
          "metadata": {},
          "execution_count": 37
        }
      ],
      "source": [
        "len(ds_test)"
      ],
      "id": "16af9283"
    },
    {
      "cell_type": "code",
      "execution_count": null,
      "metadata": {
        "id": "c13df7b8"
      },
      "outputs": [],
      "source": [
        "#Getting the last 100 days records\n",
        "fut_inp = ds_test[270:]"
      ],
      "id": "c13df7b8"
    },
    {
      "cell_type": "code",
      "execution_count": null,
      "metadata": {
        "id": "52b30579"
      },
      "outputs": [],
      "source": [
        "fut_inp = fut_inp.reshape(1,-1)"
      ],
      "id": "52b30579"
    },
    {
      "cell_type": "code",
      "execution_count": null,
      "metadata": {
        "id": "ac2686a6"
      },
      "outputs": [],
      "source": [
        "tmp_inp = list(fut_inp)"
      ],
      "id": "ac2686a6"
    },
    {
      "cell_type": "code",
      "execution_count": null,
      "metadata": {
        "colab": {
          "base_uri": "https://localhost:8080/"
        },
        "id": "dad5024f",
        "outputId": "9d976fe6-314f-4b0a-d722-22239cc00326"
      },
      "outputs": [
        {
          "output_type": "execute_result",
          "data": {
            "text/plain": [
              "(1, 101)"
            ]
          },
          "metadata": {},
          "execution_count": 41
        }
      ],
      "source": [
        "fut_inp.shape"
      ],
      "id": "dad5024f"
    },
    {
      "cell_type": "code",
      "execution_count": null,
      "metadata": {
        "id": "98042a30"
      },
      "outputs": [],
      "source": [
        "#Creating list of the last 100 data\n",
        "tmp_inp = tmp_inp[0].tolist()"
      ],
      "id": "98042a30"
    },
    {
      "cell_type": "code",
      "execution_count": null,
      "metadata": {
        "colab": {
          "base_uri": "https://localhost:8080/"
        },
        "id": "K0xwdJCoqWlU",
        "outputId": "bcf6ae90-e282-463f-db5c-2c69d133d3ee"
      },
      "outputs": [
        {
          "output_type": "stream",
          "name": "stdout",
          "text": [
            "[[0.8541766405105591], [0.8208369612693787], [0.7808381915092468], [0.7426522970199585], [0.70808345079422], [0.6768608689308167], [0.6483904719352722], [0.6222727298736572], [0.5982656478881836], [0.5763379335403442], [0.5565721392631531], [0.538512647151947], [0.5223370790481567], [0.5078782439231873], [0.49502554535865784], [0.48368898034095764], [0.4737775921821594], [0.4651946723461151], [0.45783817768096924], [0.4516037404537201], [0.44638991355895996], [0.44210153818130493], [0.4386357367038727], [0.43590211868286133], [0.43381163477897644], [0.4322805404663086], [0.43123000860214233], [0.4305882453918457], [0.43028879165649414], [0.43027162551879883]]\n"
          ]
        }
      ],
      "source": [
        "import numpy as np\n",
        "\n",
        "# Assuming you have a trained model named 'model' and an initial input sequence 'tmp_inp'\n",
        "# Make sure to replace 'model' and 'tmp_inp' with your actual model and input sequence\n",
        "\n",
        "# Define the number of steps for the sliding window\n",
        "n_steps = 10\n",
        "\n",
        "# Initialize the output list\n",
        "lst_output = []\n",
        "\n",
        "# Prediction loop for the next 30 days\n",
        "for i in range(30):\n",
        "    if len(tmp_inp) > n_steps:\n",
        "        # Use the last n_steps values as input for prediction\n",
        "        fut_inp = np.array(tmp_inp[-n_steps:])\n",
        "        fut_inp = fut_inp.reshape(1, n_steps, 1)\n",
        "        yhat = model.predict(fut_inp, verbose=0)\n",
        "\n",
        "        # Extend input sequence and output list\n",
        "        tmp_inp.extend(yhat[0].tolist())\n",
        "        lst_output.extend(yhat.tolist())\n",
        "\n",
        "    else:\n",
        "        # If the input sequence is not long enough, use the entire sequence for prediction\n",
        "        fut_inp = np.array(tmp_inp)\n",
        "        fut_inp = fut_inp.reshape(1, len(tmp_inp), 1)\n",
        "        yhat = model.predict(fut_inp, verbose=0)\n",
        "\n",
        "        # Extend input sequence and output list\n",
        "        tmp_inp.extend(yhat[0].tolist())\n",
        "        lst_output.extend(yhat.tolist())\n",
        "\n",
        "# Print the predicted output for the next 30 days\n",
        "print(lst_output)\n"
      ],
      "id": "K0xwdJCoqWlU"
    },
    {
      "cell_type": "code",
      "execution_count": null,
      "metadata": {
        "colab": {
          "base_uri": "https://localhost:8080/"
        },
        "id": "d49a83e5",
        "outputId": "13428e09-6dfc-4578-9b3a-9d216fc84475"
      },
      "outputs": [
        {
          "output_type": "execute_result",
          "data": {
            "text/plain": [
              "1235"
            ]
          },
          "metadata": {},
          "execution_count": 44
        }
      ],
      "source": [
        "len(ds_scaled)"
      ],
      "id": "d49a83e5"
    },
    {
      "cell_type": "code",
      "execution_count": null,
      "metadata": {
        "id": "e41c9362"
      },
      "outputs": [],
      "source": [
        "ds_new = ds_scaled.tolist()"
      ],
      "id": "e41c9362"
    },
    {
      "cell_type": "code",
      "execution_count": null,
      "metadata": {
        "colab": {
          "base_uri": "https://localhost:8080/"
        },
        "id": "d6c8d3c1",
        "outputId": "b562b6e4-31fb-4dc6-ae73-0efd59864c73"
      },
      "outputs": [
        {
          "output_type": "execute_result",
          "data": {
            "text/plain": [
              "1235"
            ]
          },
          "metadata": {},
          "execution_count": 46
        }
      ],
      "source": [
        "len(ds_new)"
      ],
      "id": "d6c8d3c1"
    },
    {
      "cell_type": "code",
      "execution_count": null,
      "metadata": {
        "id": "7f04f058"
      },
      "outputs": [],
      "source": [
        "#Creating final data for plotting\n",
        "final_graph = normalizer.inverse_transform(ds_new).tolist()"
      ],
      "id": "7f04f058"
    },
    {
      "cell_type": "code",
      "execution_count": null,
      "metadata": {
        "colab": {
          "base_uri": "https://localhost:8080/",
          "height": 489
        },
        "id": "2dfdef30",
        "outputId": "e07a0c32-5b81-44c9-9314-6d8e4a08cbbf"
      },
      "outputs": [
        {
          "output_type": "execute_result",
          "data": {
            "text/plain": [
              "<matplotlib.legend.Legend at 0x78c63d653280>"
            ]
          },
          "metadata": {},
          "execution_count": 48
        },
        {
          "output_type": "display_data",
          "data": {
            "text/plain": [
              "<Figure size 640x480 with 1 Axes>"
            ],
            "image/png": "[encoded data removed]"
          },
          "metadata": {}
        }
      ],
      "source": [
        "#Plotting final results with predicted value after 30 Days\n",
        "plt.plot(final_graph,)\n",
        "plt.ylabel(\"Price\")\n",
        "plt.xlabel(\"Time\")\n",
        "plt.title(\"{0} prediction of next month open\".format(stock_symbol))\n",
        "plt.axhline(y=final_graph[len(final_graph)-1], color = 'red', linestyle = ':', label = 'NEXT 30D: {0}'.format(round(float(*final_graph[len(final_graph)-1]),2)))\n",
        "plt.legend()\n",
        "\n"
      ],
      "id": "2dfdef30"
    },
    {
      "cell_type": "code",
      "source": [
        "model.save('model.h5')"
      ],
      "metadata": {
        "colab": {
          "base_uri": "https://localhost:8080/"
        },
        "id": "j0ObvNdTHSSY",
        "outputId": "f3a9a148-109e-4f6e-f1f8-ed6fb41430ca"
      },
      "id": "j0ObvNdTHSSY",
      "execution_count": null,
      "outputs": [
        {
          "output_type": "stream",
          "name": "stderr",
          "text": [
            "/usr/local/lib/python3.10/dist-packages/keras/src/engine/training.py:3103: UserWarning: You are saving your model as an HDF5 file via `model.save()`. This file format is considered legacy. We recommend using instead the native Keras format, e.g. `model.save('my_model.keras')`.\n",
            "  saving_api.save_model(\n"
          ]
        }
      ]
    },
    {
      "cell_type": "code",
      "source": [
        "import keras\n",
        "import tensorflow as tf\n",
        "print(keras.__version__)\n",
        "print(tf.__version__)\n"
      ],
      "metadata": {
        "id": "D8UStCf0IDpo",
        "outputId": "c9245ba7-d82c-437b-b597-a9026d4cf746",
        "colab": {
          "base_uri": "https://localhost:8080/"
        }
      },
      "id": "D8UStCf0IDpo",
      "execution_count": null,
      "outputs": [
        {
          "output_type": "stream",
          "name": "stdout",
          "text": [
            "2.15.0\n",
            "2.15.0\n"
          ]
        }
      ]
    },
    {
      "cell_type": "code",
      "source": [],
      "metadata": {
        "id": "8_qjiiLN6KmZ"
      },
      "id": "8_qjiiLN6KmZ",
      "execution_count": null,
      "outputs": []
    }
  ],
  "metadata": {
    "colab": {
      "provenance": []
    },
    "kernelspec": {
      "display_name": "Python 3",
      "language": "python",
      "name": "python3"
    },
    "language_info": {
      "codemirror_mode": {
        "name": "ipython",
        "version": 3
      },
      "file_extension": ".py",
      "mimetype": "text/x-python",
      "name": "python",
      "nbconvert_exporter": "python",
      "pygments_lexer": "ipython3",
      "version": "3.7.10"
    }
  },
  "nbformat": 4,
  "nbformat_minor": 5
}